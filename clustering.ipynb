{
  "nbformat": 4,
  "nbformat_minor": 0,
  "metadata": {
    "colab": {
      "name": "clustering.ipynb",
      "provenance": [],
      "authorship_tag": "ABX9TyMvcIyqTX596C3laf7tgome",
      "include_colab_link": true
    },
    "kernelspec": {
      "name": "python3",
      "display_name": "Python 3"
    },
    "language_info": {
      "name": "python"
    }
  },
  "cells": [
    {
      "cell_type": "markdown",
      "metadata": {
        "id": "view-in-github",
        "colab_type": "text"
      },
      "source": [
        "<a href=\"https://colab.research.google.com/github/ShaanAu/NTU---ML/blob/main/clustering.ipynb\" target=\"_parent\"><img src=\"https://colab.research.google.com/assets/colab-badge.svg\" alt=\"Open In Colab\"/></a>"
      ]
    },
    {
      "cell_type": "code",
      "execution_count": 1,
      "metadata": {
        "id": "EgrUbx-X3HM_"
      },
      "outputs": [],
      "source": [
        "from sklearn.datasets import make_blobs \n",
        "X, y = make_blobs(n_samples=150,n_features=2,centers=4,cluster_std=0.5,shuffle=True,random_state=0)"
      ]
    },
    {
      "cell_type": "code",
      "source": [
        "import matplotlib.pyplot as plt\n",
        "%matplotlib inline\n",
        "plt.scatter(X[:,0], X[:,1], c='black', marker='o', s=50)\n",
        "plt.grid()\n",
        "plt.tight_layout()\n",
        "#plt.savefig('./figures/spheres.png', dpi=300)\n",
        "plt.show()"
      ],
      "metadata": {
        "colab": {
          "base_uri": "https://localhost:8080/",
          "height": 297
        },
        "id": "dCnVoqkt3TXA",
        "outputId": "3a85da06-85f2-4e5b-8bd5-59efcf52fdc5"
      },
      "execution_count": 4,
      "outputs": [
        {
          "output_type": "display_data",
          "data": {
            "text/plain": [
              "<Figure size 432x288 with 1 Axes>"
            ],
            "image/png": "[encoded data removed]"
          },
          "metadata": {
            "needs_background": "light"
          }
        }
      ]
    },
    {
      "cell_type": "code",
      "source": [
        "from sklearn.cluster import KMeans\n",
        "km = KMeans(n_clusters=4,\n",
        "init='random',\n",
        "n_init=10,\n",
        "max_iter=300,\n",
        "tol=1e-04,\n",
        "random_state=0)"
      ],
      "metadata": {
        "id": "xFxG3o533b0H"
      },
      "execution_count": 19,
      "outputs": []
    },
    {
      "cell_type": "code",
      "source": [
        "y_km= km.fit_predict(X)"
      ],
      "metadata": {
        "id": "Wojdcfaj3ia2"
      },
      "execution_count": 20,
      "outputs": []
    },
    {
      "cell_type": "code",
      "source": [
        "print(km.cluster_centers_)"
      ],
      "metadata": {
        "colab": {
          "base_uri": "https://localhost:8080/"
        },
        "id": "CAKJAwa43j1W",
        "outputId": "b52879d7-02ad-4ef7-a6d1-4332bbad9369"
      },
      "execution_count": 21,
      "outputs": [
        {
          "output_type": "stream",
          "name": "stdout",
          "text": [
            "[[-1.32931949  7.83606554]\n",
            " [ 2.08356978  1.13724593]\n",
            " [ 0.88922686  4.24805239]\n",
            " [-1.55311219  2.87260114]]\n"
          ]
        }
      ]
    },
    {
      "cell_type": "code",
      "source": [
        "plt.scatter(X[y_km==0,0],\n",
        "X[y_km==0,1],\n",
        "s=50,\n",
        "c='lightgreen',\n",
        "marker='s',\n",
        "label='cluster 1')"
      ],
      "metadata": {
        "colab": {
          "base_uri": "https://localhost:8080/",
          "height": 282
        },
        "id": "9s3GahXc3sQu",
        "outputId": "777bd369-7812-4846-d205-613a76d1cf52"
      },
      "execution_count": 26,
      "outputs": [
        {
          "output_type": "execute_result",
          "data": {
            "text/plain": [
              "<matplotlib.collections.PathCollection at 0x7f1750460490>"
            ]
          },
          "metadata": {},
          "execution_count": 26
        },
        {
          "output_type": "display_data",
          "data": {
            "text/plain": [
              "<Figure size 432x288 with 1 Axes>"
            ],
            "image/png": "[encoded data removed]"
          },
          "metadata": {
            "needs_background": "light"
          }
        }
      ]
    },
    {
      "cell_type": "code",
      "source": [
        "plt.scatter(km.cluster_centers_[:,0],\n",
        "km.cluster_centers_[:,1],\n",
        "s=250,\n",
        "marker='*',\n",
        "c='red',\n",
        "label='centroids')\n",
        "plt.legend()\n",
        "plt.grid()\n",
        "plt.tight_layout()\n",
        "#plt.savefig('./figures/centroids.png', pi=300)\n",
        "plt.show()"
      ],
      "metadata": {
        "colab": {
          "base_uri": "https://localhost:8080/",
          "height": 297
        },
        "id": "hO_RwhYL3v_4",
        "outputId": "4c93626d-48ce-427e-c105-a4634a853386"
      },
      "execution_count": 23,
      "outputs": [
        {
          "output_type": "display_data",
          "data": {
            "text/plain": [
              "<Figure size 432x288 with 1 Axes>"
            ],
            "image/png": "[encoded data removed]"
          },
          "metadata": {
            "needs_background": "light"
          }
        }
      ]
    }
  ]
}